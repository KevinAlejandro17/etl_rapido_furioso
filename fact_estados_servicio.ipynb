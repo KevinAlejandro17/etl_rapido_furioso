{
 "cells": [
  {
   "cell_type": "code",
   "execution_count": 1,
   "metadata": {},
   "outputs": [],
   "source": [
    "from datetime import date\n",
    "import numpy as np\n",
    "import pandas as pd\n",
    "import yaml\n",
    "from sqlalchemy import create_engine"
   ]
  },
  {
   "cell_type": "code",
   "execution_count": 2,
   "metadata": {},
   "outputs": [],
   "source": [
    "# Configuración de las conexiones a las bases de datos\n",
    "with open('./config.yml', 'r') as f:\n",
    "    config = yaml.safe_load(f)\n",
    "    config_ryf = config['RAPIDO_Y_FURIOSO']\n",
    "    config_etl = config['ETL']\n",
    "\n",
    "url_ryf = (f\"{config_ryf['drivername']}://{config_ryf['user']}:{config_ryf['password']}@{config_ryf['host']}:\"\n",
    "        f\"{config_ryf['port']}/{config_ryf['dbname']}\")\n",
    "url_etl = (f\"{config_etl['drivername']}://{config_etl['user']}:{config_etl['password']}@{config_etl['host']}:\"\n",
    "        f\"{config_etl['port']}/{config_etl['dbname']}\")\n",
    "\n",
    "ryf = create_engine(url_ryf)\n",
    "etl_conn = create_engine(url_etl)"
   ]
  },
  {
   "cell_type": "code",
   "execution_count": 3,
   "metadata": {},
   "outputs": [],
   "source": [
    "# Extraer datos necesarios de la base de datos operacional\n",
    "estados_servicio = pd.read_sql_query(\"\"\"\n",
    "    SELECT \n",
    "        id as estado_servicio_id,\n",
    "        servicio_id,\n",
    "        estado_id,\n",
    "        fecha_hora_estado,\n",
    "        usuario_registro\n",
    "    FROM estados_servicio\n",
    "\"\"\", ryf)\n",
    "\n",
    "# Obtener las dimensiones relacionadas de la bodega de datos\n",
    "dim_servicio = pd.read_sql_table('fact_servicio', etl_conn)\n",
    "dim_estado = pd.read_sql_table('estado', etl_conn)\n",
    "dim_fecha = pd.read_sql_table('fecha', etl_conn)"
   ]
  },
  {
   "cell_type": "code",
   "execution_count": 4,
   "metadata": {},
   "outputs": [],
   "source": [
    "# Convertir fecha_hora_estado a datetime si no lo está ya\n",
    "estados_servicio['fecha_hora_estado'] = pd.to_datetime(estados_servicio['fecha_hora_estado'])\n",
    "\n",
    "# Crear columnas de fecha y hora para los joins\n",
    "estados_servicio['fecha'] = estados_servicio['fecha_hora_estado'].dt.date\n",
    "estados_servicio['hora'] = estados_servicio['fecha_hora_estado'].dt.hour"
   ]
  },
  {
   "cell_type": "code",
   "execution_count": 5,
   "metadata": {},
   "outputs": [],
   "source": [
    "# Realizar los joins con las dimensiones\n",
    "fact_estados = estados_servicio.merge(\n",
    "    dim_servicio,\n",
    "    left_on='servicio_id',\n",
    "    right_on='servicio_key',\n",
    "    how='left'\n",
    ").merge(\n",
    "    dim_estado,\n",
    "    left_on='estado_id',\n",
    "    right_on='estado_key',\n",
    "    how='left'\n",
    ").merge(\n",
    "    dim_fecha,\n",
    "    left_on='fecha',\n",
    "    right_on='fecha_valor',\n",
    "    how='left'\n",
    ")"
   ]
  },
  {
   "cell_type": "code",
   "execution_count": 6,
   "metadata": {},
   "outputs": [],
   "source": [
    "# Limpiar y preparar los datos\n",
    "fact_estados.replace({\n",
    "    np.nan: 'no aplica',\n",
    "    'NaT': 'no aplica'\n",
    "}, inplace=True)\n",
    "\n",
    "# Convertir tipos de datos según sea necesario\n",
    "fact_estados['servicio_key'] = fact_estados['servicio_key'].astype('Int64')\n",
    "fact_estados['estado_key'] = fact_estados['estado_key'].astype('Int64')\n",
    "fact_estados['fecha_key'] = fact_estados['fecha_key'].astype('Int64')\n",
    "fact_estados['hora'] = fact_estados['hora'].astype('Int64')"
   ]
  },
  {
   "cell_type": "code",
   "execution_count": 7,
   "metadata": {},
   "outputs": [],
   "source": [
    "# Seleccionar solo las columnas necesarias para la tabla de hechos\n",
    "fact_estados = fact_estados[[\n",
    "    'estado_servicio_id',\n",
    "    'servicio_key',\n",
    "    'estado_key',\n",
    "    'fecha_hora_estado',\n",
    "    'fecha_key',\n",
    "    'hora',\n",
    "    'usuario_registro'\n",
    "]]"
   ]
  },
  {
   "cell_type": "code",
   "execution_count": 8,
   "metadata": {},
   "outputs": [],
   "source": [
    "# Agregar columna de fecha de carga\n",
    "fact_estados['fecha_carga'] = date.today()"
   ]
  },
  {
   "cell_type": "code",
   "execution_count": 9,
   "metadata": {},
   "outputs": [],
   "source": [
    "# Cargar los datos en la tabla de hechos\n",
    "fact_estados.to_sql(\n",
    "    'fact_estados_servicio',\n",
    "    etl_conn,\n",
    "    if_exists='replace',\n",
    "    index=False\n",
    ")"
   ]
  }
 ],
 "metadata": {
  "kernelspec": {
   "display_name": "venv",
   "language": "python",
   "name": "python3"
  },
  "language_info": {
   "name": "python",
   "version": "3.10.6"
  }
 },
 "nbformat": 4,
 "nbformat_minor": 4
}
