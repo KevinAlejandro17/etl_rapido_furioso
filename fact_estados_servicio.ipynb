{
 "cells": [
  {
   "cell_type": "code",
   "execution_count": 48,
   "metadata": {},
   "outputs": [],
   "source": [
    "from datetime import date\n",
    "import numpy as np\n",
    "import pandas as pd\n",
    "import yaml\n",
    "from sqlalchemy import create_engine"
   ]
  },
  {
   "cell_type": "code",
   "execution_count": 49,
   "metadata": {},
   "outputs": [],
   "source": [
    "# Configuración de las conexiones a las bases de datos\n",
    "with open('./config.yml', 'r') as f:\n",
    "    config = yaml.safe_load(f)\n",
    "    config_ryf = config['RAPIDO_Y_FURIOSO']\n",
    "    config_etl = config['ETL']\n",
    "\n",
    "url_ryf = (f\"{config_ryf['drivername']}://{config_ryf['user']}:{config_ryf['password']}@{config_ryf['host']}:\"\n",
    "        f\"{config_ryf['port']}/{config_ryf['dbname']}\")\n",
    "url_etl = (f\"{config_etl['drivername']}://{config_etl['user']}:{config_etl['password']}@{config_etl['host']}:\"\n",
    "        f\"{config_etl['port']}/{config_etl['dbname']}\")\n",
    "\n",
    "ryf = create_engine(url_ryf)\n",
    "etl_conn = create_engine(url_etl)"
   ]
  },
  {
   "cell_type": "code",
   "execution_count": 50,
   "metadata": {},
   "outputs": [],
   "source": [
    "fact_estados_servicio = pd.read_sql_table('mensajeria_estadosservicio', ryf)\n",
    "\n",
    "fact_servicio = pd.read_sql_table('fact_servicio', etl_conn)\n",
    "dim_estado = pd.read_sql_table('dim_estado', etl_conn)\n",
    "dim_fecha = pd.read_sql_table('dim_fecha', etl_conn)"
   ]
  },
  {
   "cell_type": "code",
   "execution_count": 51,
   "metadata": {},
   "outputs": [
    {
     "data": {
      "text/html": [
       "<div>\n",
       "<style scoped>\n",
       "    .dataframe tbody tr th:only-of-type {\n",
       "        vertical-align: middle;\n",
       "    }\n",
       "\n",
       "    .dataframe tbody tr th {\n",
       "        vertical-align: top;\n",
       "    }\n",
       "\n",
       "    .dataframe thead th {\n",
       "        text-align: right;\n",
       "    }\n",
       "</style>\n",
       "<table border=\"1\" class=\"dataframe\">\n",
       "  <thead>\n",
       "    <tr style=\"text-align: right;\">\n",
       "      <th></th>\n",
       "      <th>id</th>\n",
       "      <th>fecha</th>\n",
       "      <th>hora</th>\n",
       "      <th>foto</th>\n",
       "      <th>observaciones</th>\n",
       "      <th>estado_id</th>\n",
       "      <th>servicio_id</th>\n",
       "      <th>es_prueba</th>\n",
       "      <th>foto_binary</th>\n",
       "    </tr>\n",
       "  </thead>\n",
       "  <tbody>\n",
       "    <tr>\n",
       "      <th>0</th>\n",
       "      <td>1014</td>\n",
       "      <td>2024-01-29</td>\n",
       "      <td>01:13:32</td>\n",
       "      <td>foto</td>\n",
       "      <td>4 tubos</td>\n",
       "      <td>4</td>\n",
       "      <td>226</td>\n",
       "      <td>False</td>\n",
       "      <td>None</td>\n",
       "    </tr>\n",
       "    <tr>\n",
       "      <th>1</th>\n",
       "      <td>1484</td>\n",
       "      <td>2024-01-30</td>\n",
       "      <td>18:45:12</td>\n",
       "      <td>foto</td>\n",
       "      <td>Demora</td>\n",
       "      <td>3</td>\n",
       "      <td>79</td>\n",
       "      <td>True</td>\n",
       "      <td>None</td>\n",
       "    </tr>\n",
       "    <tr>\n",
       "      <th>2</th>\n",
       "      <td>2829</td>\n",
       "      <td>2024-02-06</td>\n",
       "      <td>11:34:04</td>\n",
       "      <td>foto</td>\n",
       "      <td>Compra exitosa</td>\n",
       "      <td>5</td>\n",
       "      <td>613</td>\n",
       "      <td>False</td>\n",
       "      <td>None</td>\n",
       "    </tr>\n",
       "    <tr>\n",
       "      <th>3</th>\n",
       "      <td>1888</td>\n",
       "      <td>2024-02-01</td>\n",
       "      <td>14:50:39</td>\n",
       "      <td>foto</td>\n",
       "      <td>Zzxzz</td>\n",
       "      <td>4</td>\n",
       "      <td>376</td>\n",
       "      <td>False</td>\n",
       "      <td>None</td>\n",
       "    </tr>\n",
       "    <tr>\n",
       "      <th>4</th>\n",
       "      <td>32312</td>\n",
       "      <td>2024-04-06</td>\n",
       "      <td>16:11:21</td>\n",
       "      <td>foto</td>\n",
       "      <td>No</td>\n",
       "      <td>3</td>\n",
       "      <td>7164</td>\n",
       "      <td>True</td>\n",
       "      <td>None</td>\n",
       "    </tr>\n",
       "  </tbody>\n",
       "</table>\n",
       "</div>"
      ],
      "text/plain": [
       "      id      fecha      hora  foto   observaciones  estado_id  servicio_id  \\\n",
       "0   1014 2024-01-29  01:13:32  foto         4 tubos          4          226   \n",
       "1   1484 2024-01-30  18:45:12  foto          Demora          3           79   \n",
       "2   2829 2024-02-06  11:34:04  foto  Compra exitosa          5          613   \n",
       "3   1888 2024-02-01  14:50:39  foto           Zzxzz          4          376   \n",
       "4  32312 2024-04-06  16:11:21  foto              No          3         7164   \n",
       "\n",
       "   es_prueba foto_binary  \n",
       "0      False        None  \n",
       "1       True        None  \n",
       "2      False        None  \n",
       "3      False        None  \n",
       "4       True        None  "
      ]
     },
     "execution_count": 51,
     "metadata": {},
     "output_type": "execute_result"
    }
   ],
   "source": [
    "fact_estados_servicio.head()"
   ]
  },
  {
   "cell_type": "code",
   "execution_count": 52,
   "metadata": {},
   "outputs": [],
   "source": [
    "fact_estados_servicio['hora'] = fact_estados_servicio['hora'].astype(str).str.split('.').str[0]\n",
    "fact_estados_servicio['datetime_estado'] = pd.to_datetime(fact_estados_servicio['fecha'].astype(str) + ' ' + fact_estados_servicio['hora'].astype(str))"
   ]
  },
  {
   "cell_type": "code",
   "execution_count": 53,
   "metadata": {},
   "outputs": [
    {
     "name": "stdout",
     "output_type": "stream",
     "text": [
      "<class 'pandas.core.frame.DataFrame'>\n",
      "RangeIndex: 128402 entries, 0 to 128401\n",
      "Data columns (total 10 columns):\n",
      " #   Column           Non-Null Count   Dtype         \n",
      "---  ------           --------------   -----         \n",
      " 0   id               128402 non-null  int64         \n",
      " 1   fecha            128402 non-null  datetime64[ns]\n",
      " 2   hora             128402 non-null  object        \n",
      " 3   foto             128402 non-null  object        \n",
      " 4   observaciones    128401 non-null  object        \n",
      " 5   estado_id        128402 non-null  int64         \n",
      " 6   servicio_id      128402 non-null  int64         \n",
      " 7   es_prueba        128402 non-null  bool          \n",
      " 8   foto_binary      270 non-null     object        \n",
      " 9   datetime_estado  128402 non-null  datetime64[ns]\n",
      "dtypes: bool(1), datetime64[ns](2), int64(3), object(4)\n",
      "memory usage: 8.9+ MB\n"
     ]
    }
   ],
   "source": [
    "fact_estados_servicio.info()"
   ]
  },
  {
   "cell_type": "code",
   "execution_count": 54,
   "metadata": {},
   "outputs": [],
   "source": [
    "fact_estados_servicio = fact_estados_servicio.merge(dim_fecha[['key_dim_fecha', 'fecha']])\n",
    "fact_estados_servicio = fact_estados_servicio.merge(dim_estado[['key_dim_estado', 'estado_id']])\n",
    "fact_estados_servicio = fact_estados_servicio.merge(fact_servicio[['key_fact_servicio', 'servicio_id']])"
   ]
  },
  {
   "cell_type": "code",
   "execution_count": 56,
   "metadata": {},
   "outputs": [],
   "source": [
    "fact_estados_servicio['tiempo_en_estado'] = fact_estados_servicio.groupby('servicio_id')['datetime_estado'].diff()\n",
    "fact_estados_servicio['minutos_en_estado'] = fact_estados_servicio['tiempo_en_estado'].dt.total_seconds() / 60\n",
    "\n",
    "fact_tiempos_estado = fact_estados_servicio.groupby([\n",
    "    'key_dim_fecha',\n",
    "    'estado_id',\n",
    "]).agg({\n",
    "    'minutos_en_estado': ['sum', 'mean', 'count'],\n",
    "    'servicio_id': 'nunique'\n",
    "}).reset_index()\n",
    "\n",
    "fact_tiempos_estado = fact_tiempos_estado.rename(columns={\n",
    "    'minutos_en_estado_sum': 'total_minutos',\n",
    "    'minutos_en_estado_mean': 'promedio_minutos',\n",
    "    'minutos_en_estado_count': 'cantidad_transiciones',\n",
    "    'servicio_id': 'cantidad_servicios'\n",
    "})"
   ]
  },
  {
   "cell_type": "code",
   "execution_count": 57,
   "metadata": {},
   "outputs": [
    {
     "data": {
      "text/html": [
       "<div>\n",
       "<style scoped>\n",
       "    .dataframe tbody tr th:only-of-type {\n",
       "        vertical-align: middle;\n",
       "    }\n",
       "\n",
       "    .dataframe tbody tr th {\n",
       "        vertical-align: top;\n",
       "    }\n",
       "\n",
       "    .dataframe thead tr th {\n",
       "        text-align: left;\n",
       "    }\n",
       "</style>\n",
       "<table border=\"1\" class=\"dataframe\">\n",
       "  <thead>\n",
       "    <tr>\n",
       "      <th></th>\n",
       "      <th>key_dim_fecha</th>\n",
       "      <th>estado_id</th>\n",
       "      <th colspan=\"3\" halign=\"left\">minutos_en_estado</th>\n",
       "      <th>cantidad_servicios</th>\n",
       "    </tr>\n",
       "    <tr>\n",
       "      <th></th>\n",
       "      <th></th>\n",
       "      <th></th>\n",
       "      <th>sum</th>\n",
       "      <th>mean</th>\n",
       "      <th>count</th>\n",
       "      <th>nunique</th>\n",
       "    </tr>\n",
       "  </thead>\n",
       "  <tbody>\n",
       "    <tr>\n",
       "      <th>0</th>\n",
       "      <td>253</td>\n",
       "      <td>1</td>\n",
       "      <td>0.000000</td>\n",
       "      <td>NaN</td>\n",
       "      <td>0</td>\n",
       "      <td>12</td>\n",
       "    </tr>\n",
       "    <tr>\n",
       "      <th>1</th>\n",
       "      <td>256</td>\n",
       "      <td>2</td>\n",
       "      <td>-2686.333333</td>\n",
       "      <td>-335.791667</td>\n",
       "      <td>8</td>\n",
       "      <td>6</td>\n",
       "    </tr>\n",
       "    <tr>\n",
       "      <th>2</th>\n",
       "      <td>257</td>\n",
       "      <td>1</td>\n",
       "      <td>0.000000</td>\n",
       "      <td>NaN</td>\n",
       "      <td>0</td>\n",
       "      <td>8</td>\n",
       "    </tr>\n",
       "    <tr>\n",
       "      <th>3</th>\n",
       "      <td>260</td>\n",
       "      <td>1</td>\n",
       "      <td>0.000000</td>\n",
       "      <td>NaN</td>\n",
       "      <td>0</td>\n",
       "      <td>1</td>\n",
       "    </tr>\n",
       "    <tr>\n",
       "      <th>4</th>\n",
       "      <td>267</td>\n",
       "      <td>1</td>\n",
       "      <td>0.000000</td>\n",
       "      <td>NaN</td>\n",
       "      <td>0</td>\n",
       "      <td>1</td>\n",
       "    </tr>\n",
       "  </tbody>\n",
       "</table>\n",
       "</div>"
      ],
      "text/plain": [
       "  key_dim_fecha estado_id minutos_en_estado                    \\\n",
       "                                        sum        mean count   \n",
       "0           253         1          0.000000         NaN     0   \n",
       "1           256         2      -2686.333333 -335.791667     8   \n",
       "2           257         1          0.000000         NaN     0   \n",
       "3           260         1          0.000000         NaN     0   \n",
       "4           267         1          0.000000         NaN     0   \n",
       "\n",
       "  cantidad_servicios  \n",
       "             nunique  \n",
       "0                 12  \n",
       "1                  6  \n",
       "2                  8  \n",
       "3                  1  \n",
       "4                  1  "
      ]
     },
     "execution_count": 57,
     "metadata": {},
     "output_type": "execute_result"
    }
   ],
   "source": [
    "fact_tiempos_estado.head()"
   ]
  },
  {
   "cell_type": "code",
   "execution_count": null,
   "metadata": {},
   "outputs": [],
   "source": [
    "fact_estados_servicio.replace({\n",
    "    np.nan: 'no aplica',\n",
    "    'NaT': 'no aplica'\n",
    "}, inplace=True)"
   ]
  },
  {
   "cell_type": "code",
   "execution_count": null,
   "metadata": {},
   "outputs": [],
   "source": [
    "fact_estados_servicio['saved'] = date.today()"
   ]
  },
  {
   "cell_type": "code",
   "execution_count": null,
   "metadata": {},
   "outputs": [
    {
     "data": {
      "text/plain": [
       "402"
      ]
     },
     "execution_count": 28,
     "metadata": {},
     "output_type": "execute_result"
    }
   ],
   "source": [
    "fact_estados_servicio.to_sql(\n",
    "    'fact_estados_servicio',\n",
    "    etl_conn,\n",
    "    if_exists='replace',\n",
    "    index=False\n",
    ")"
   ]
  }
 ],
 "metadata": {
  "kernelspec": {
   "display_name": "venv",
   "language": "python",
   "name": "python3"
  },
  "language_info": {
   "codemirror_mode": {
    "name": "ipython",
    "version": 3
   },
   "file_extension": ".py",
   "mimetype": "text/x-python",
   "name": "python",
   "nbconvert_exporter": "python",
   "pygments_lexer": "ipython3",
   "version": "3.10.6"
  }
 },
 "nbformat": 4,
 "nbformat_minor": 4
}
