{
 "cells": [
  {
   "cell_type": "code",
   "execution_count": 71,
   "id": "9f06c19f-e94c-4890-bf24-6c6b3dac606f",
   "metadata": {},
   "outputs": [],
   "source": [
    "from datetime import date\n",
    "\n",
    "import numpy as np\n",
    "import pandas as pd\n",
    "import yaml"
   ]
  },
  {
   "cell_type": "code",
   "execution_count": 72,
   "id": "889f874f-d8a5-46e7-b099-d9539f014f74",
   "metadata": {},
   "outputs": [],
   "source": [
    "from sqlalchemy import create_engine\n",
    "\n",
    "with open('./config.yml', 'r') as f:\n",
    "        config = yaml.safe_load(f)\n",
    "        config_ryf = config['RAPIDO_Y_FURIOSO']\n",
    "        config_etl = config['ETL']\n",
    "\n",
    "url_ryf = (f\"{config_ryf['drivername']}://{config_ryf['user']}:{config_ryf['password']}@{config_ryf['host']}:\"\n",
    "        f\"{config_ryf['port']}/{config_ryf['dbname']}\")\n",
    "url_etl = (f\"{config_etl['drivername']}://{config_etl['user']}:{config_etl['password']}@{config_etl['host']}:\"\n",
    "        f\"{config_etl['port']}/{config_etl['dbname']}\")\n",
    "\n",
    "ryf = create_engine(url_ryf)\n",
    "etl_conn = create_engine(url_etl)"
   ]
  },
  {
   "cell_type": "code",
   "execution_count": 73,
   "id": "11ce198d-55bf-49f1-b706-35b67b16866e",
   "metadata": {},
   "outputs": [],
   "source": [
    "dim_mensajero = pd.read_sql_table('clientes_mensajeroaquitoy', ryf)\n",
    "usuario = pd.read_sql_table('auth_user', ryf)"
   ]
  },
  {
   "cell_type": "code",
   "execution_count": 74,
   "id": "67c71fab-eb95-43ab-9be8-c63da7521ab6",
   "metadata": {},
   "outputs": [],
   "source": [
    "dim_mensajero = dim_mensajero.merge(\n",
    "    usuario, \n",
    "    left_on='user_id',\n",
    "    right_on='id',\n",
    "    how='left'\n",
    ")"
   ]
  },
  {
   "cell_type": "code",
   "execution_count": 75,
   "id": "88f332f3-9fec-44b2-bf91-ed5053380967",
   "metadata": {},
   "outputs": [
    {
     "name": "stdout",
     "output_type": "stream",
     "text": [
      "<class 'pandas.core.frame.DataFrame'>\n",
      "RangeIndex: 50 entries, 0 to 49\n",
      "Data columns (total 21 columns):\n",
      " #   Column               Non-Null Count  Dtype              \n",
      "---  ------               --------------  -----              \n",
      " 0   id_x                 50 non-null     int64              \n",
      " 1   user_id              50 non-null     int64              \n",
      " 2   activo               50 non-null     bool               \n",
      " 3   fecha_entrada        33 non-null     datetime64[ns]     \n",
      " 4   fecha_salida         0 non-null      datetime64[ns]     \n",
      " 5   salario              35 non-null     float64            \n",
      " 6   telefono             50 non-null     object             \n",
      " 7   ciudad_operacion_id  45 non-null     float64            \n",
      " 8   token_Firebase       2 non-null      object             \n",
      " 9   url_foto             50 non-null     object             \n",
      " 10  id_y                 50 non-null     int64              \n",
      " 11  password             50 non-null     object             \n",
      " 12  last_login           46 non-null     datetime64[ns, UTC]\n",
      " 13  is_superuser         50 non-null     bool               \n",
      " 14  username             50 non-null     object             \n",
      " 15  first_name           50 non-null     object             \n",
      " 16  last_name            50 non-null     object             \n",
      " 17  email                50 non-null     object             \n",
      " 18  is_staff             50 non-null     bool               \n",
      " 19  is_active            50 non-null     bool               \n",
      " 20  date_joined          50 non-null     datetime64[ns, UTC]\n",
      "dtypes: bool(4), datetime64[ns, UTC](2), datetime64[ns](2), float64(2), int64(3), object(8)\n",
      "memory usage: 7.0+ KB\n"
     ]
    }
   ],
   "source": [
    "dim_mensajero.info()"
   ]
  },
  {
   "cell_type": "code",
   "execution_count": 76,
   "id": "381dfb7c-6bd2-49da-b9d3-b4723be42e7e",
   "metadata": {},
   "outputs": [],
   "source": [
    "dim_mensajero.replace({\n",
    "    np.nan: 'no aplica',\n",
    "    'NaT': 'no aplica'\n",
    "}, inplace=True)\n",
    "dim_mensajero[\"saved\"] = date.today()"
   ]
  },
  {
   "cell_type": "code",
   "execution_count": null,
   "id": "9bc03817-fa27-4979-94ce-91ba1092f7ec",
   "metadata": {},
   "outputs": [],
   "source": [
    "dim_mensajero['ciudad_operacion_id'] = (pd.to_numeric(dim_mensajero['ciudad_operacion_id'], errors='coerce')\n",
    "                                        .fillna(pd.NA)\n",
    "                                        .astype('Int64'))"
   ]
  },
  {
   "cell_type": "code",
   "execution_count": 78,
   "id": "d1db70dd-ebe9-4de8-9483-bf8ab83a7642",
   "metadata": {},
   "outputs": [],
   "source": [
    "dim_mensajero = dim_mensajero.rename(columns={\n",
    "    'id_x': 'mensajero_id',\n",
    "    'first_name': 'nombres',\n",
    "    'last_name': 'apellidos',\n",
    "})"
   ]
  },
  {
   "cell_type": "code",
   "execution_count": 79,
   "id": "b58c2fc3-7823-4210-8379-28ceaf7aeea0",
   "metadata": {},
   "outputs": [],
   "source": [
    "dim_mensajero = dim_mensajero.filter(['mensajero_id', 'nombres', 'apellidos', 'telefono', 'ciudad_operacion_id'])"
   ]
  },
  {
   "cell_type": "code",
   "execution_count": 80,
   "id": "4a991037-ebaa-44d2-ba88-d11e91e36f93",
   "metadata": {},
   "outputs": [
    {
     "data": {
      "text/html": [
       "<div>\n",
       "<style scoped>\n",
       "    .dataframe tbody tr th:only-of-type {\n",
       "        vertical-align: middle;\n",
       "    }\n",
       "\n",
       "    .dataframe tbody tr th {\n",
       "        vertical-align: top;\n",
       "    }\n",
       "\n",
       "    .dataframe thead th {\n",
       "        text-align: right;\n",
       "    }\n",
       "</style>\n",
       "<table border=\"1\" class=\"dataframe\">\n",
       "  <thead>\n",
       "    <tr style=\"text-align: right;\">\n",
       "      <th></th>\n",
       "      <th>mensajero_id</th>\n",
       "      <th>nombres</th>\n",
       "      <th>apellidos</th>\n",
       "      <th>telefono</th>\n",
       "      <th>ciudad_operacion_id</th>\n",
       "    </tr>\n",
       "  </thead>\n",
       "  <tbody>\n",
       "    <tr>\n",
       "      <th>0</th>\n",
       "      <td>1</td>\n",
       "      <td>pepito_el_rapido</td>\n",
       "      <td>pepito_el_furioso</td>\n",
       "      <td>310-300000</td>\n",
       "      <td>13</td>\n",
       "    </tr>\n",
       "    <tr>\n",
       "      <th>1</th>\n",
       "      <td>42</td>\n",
       "      <td>pepito_el_rapido</td>\n",
       "      <td>pepito_el_furioso</td>\n",
       "      <td>310-300000</td>\n",
       "      <td>1</td>\n",
       "    </tr>\n",
       "    <tr>\n",
       "      <th>2</th>\n",
       "      <td>48</td>\n",
       "      <td>pepito_el_rapido</td>\n",
       "      <td>pepito_el_furioso</td>\n",
       "      <td>310-300000</td>\n",
       "      <td>1</td>\n",
       "    </tr>\n",
       "    <tr>\n",
       "      <th>3</th>\n",
       "      <td>41</td>\n",
       "      <td>pepito_el_rapido</td>\n",
       "      <td>pepito_el_furioso</td>\n",
       "      <td>310-300000</td>\n",
       "      <td>1</td>\n",
       "    </tr>\n",
       "    <tr>\n",
       "      <th>4</th>\n",
       "      <td>13</td>\n",
       "      <td>pepito_el_rapido</td>\n",
       "      <td>pepito_el_furioso</td>\n",
       "      <td>310-300000</td>\n",
       "      <td>4</td>\n",
       "    </tr>\n",
       "  </tbody>\n",
       "</table>\n",
       "</div>"
      ],
      "text/plain": [
       "   mensajero_id           nombres          apellidos    telefono  \\\n",
       "0             1  pepito_el_rapido  pepito_el_furioso  310-300000   \n",
       "1            42  pepito_el_rapido  pepito_el_furioso  310-300000   \n",
       "2            48  pepito_el_rapido  pepito_el_furioso  310-300000   \n",
       "3            41  pepito_el_rapido  pepito_el_furioso  310-300000   \n",
       "4            13  pepito_el_rapido  pepito_el_furioso  310-300000   \n",
       "\n",
       "   ciudad_operacion_id  \n",
       "0                   13  \n",
       "1                    1  \n",
       "2                    1  \n",
       "3                    1  \n",
       "4                    4  "
      ]
     },
     "execution_count": 80,
     "metadata": {},
     "output_type": "execute_result"
    }
   ],
   "source": [
    "dim_mensajero.head()"
   ]
  },
  {
   "cell_type": "code",
   "execution_count": 81,
   "id": "b7b8f24f-858d-41e0-8816-6a062a7afe0b",
   "metadata": {},
   "outputs": [
    {
     "data": {
      "text/plain": [
       "50"
      ]
     },
     "execution_count": 81,
     "metadata": {},
     "output_type": "execute_result"
    }
   ],
   "source": [
    "dim_mensajero.to_sql('dim_mensajero', etl_conn, if_exists='replace',index_label='key_dim_mensajero')"
   ]
  }
 ],
 "metadata": {
  "kernelspec": {
   "display_name": "venv",
   "language": "python",
   "name": "python3"
  },
  "language_info": {
   "codemirror_mode": {
    "name": "ipython",
    "version": 3
   },
   "file_extension": ".py",
   "mimetype": "text/x-python",
   "name": "python",
   "nbconvert_exporter": "python",
   "pygments_lexer": "ipython3",
   "version": "3.10.6"
  }
 },
 "nbformat": 4,
 "nbformat_minor": 5
}
