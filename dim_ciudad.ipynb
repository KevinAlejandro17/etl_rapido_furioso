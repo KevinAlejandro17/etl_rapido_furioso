{
 "cells": [
  {
   "cell_type": "code",
   "execution_count": 9,
   "id": "09c5a778-d897-4fb5-bb6d-3de771d9f488",
   "metadata": {},
   "outputs": [],
   "source": [
    "from datetime import date\n",
    "\n",
    "import numpy as np\n",
    "import pandas as pd\n",
    "import yaml"
   ]
  },
  {
   "cell_type": "code",
   "execution_count": 10,
   "id": "630c99ba-16d2-4673-9925-91fb2061fc8e",
   "metadata": {},
   "outputs": [],
   "source": [
    "from sqlalchemy import create_engine\n",
    "\n",
    "with open('./config.yml', 'r') as f:\n",
    "        config = yaml.safe_load(f)\n",
    "        config_ryf = config['RAPIDO_Y_FURIOSO']\n",
    "        config_etl = config['ETL']\n",
    "\n",
    "url_ryf = (f\"{config_ryf['drivername']}://{config_ryf['user']}:{config_ryf['password']}@{config_ryf['host']}:\"\n",
    "        f\"{config_ryf['port']}/{config_ryf['dbname']}\")\n",
    "url_etl = (f\"{config_etl['drivername']}://{config_etl['user']}:{config_etl['password']}@{config_etl['host']}:\"\n",
    "        f\"{config_etl['port']}/{config_etl['dbname']}\")\n",
    "\n",
    "ryf = create_engine(url_ryf)\n",
    "etl_conn = create_engine(url_etl)"
   ]
  },
  {
   "cell_type": "code",
   "execution_count": 11,
   "id": "1f4465b3-a1d0-4d3d-8355-6c16153b1ed3",
   "metadata": {},
   "outputs": [],
   "source": [
    "dim_ciudad = pd.read_sql_table('ciudad', ryf)\n",
    "departamento = pd.read_sql_table('departamento', ryf)"
   ]
  },
  {
   "cell_type": "code",
   "execution_count": 12,
   "id": "ce4e09a1-a434-4f81-9adf-f89bf75656fd",
   "metadata": {},
   "outputs": [],
   "source": [
    "dim_ciudad = dim_ciudad.merge(\n",
    "    departamento,\n",
    "    on='departamento_id',\n",
    "    how='left'\n",
    ")"
   ]
  },
  {
   "cell_type": "code",
   "execution_count": 15,
   "id": "9a4861a8-20d1-40d1-a976-eae453a7e26c",
   "metadata": {},
   "outputs": [],
   "source": [
    "dim_ciudad = dim_ciudad.rename(columns={\n",
    "    'nombre_x': 'nombre_ciudad',\n",
    "    'nombre_y': 'nombre_departamento'\n",
    "})"
   ]
  },
  {
   "cell_type": "code",
   "execution_count": 16,
   "id": "ed28fbe0-432b-4d3f-9e70-eb8b5e17590a",
   "metadata": {},
   "outputs": [
    {
     "data": {
      "text/html": [
       "<div>\n",
       "<style scoped>\n",
       "    .dataframe tbody tr th:only-of-type {\n",
       "        vertical-align: middle;\n",
       "    }\n",
       "\n",
       "    .dataframe tbody tr th {\n",
       "        vertical-align: top;\n",
       "    }\n",
       "\n",
       "    .dataframe thead th {\n",
       "        text-align: right;\n",
       "    }\n",
       "</style>\n",
       "<table border=\"1\" class=\"dataframe\">\n",
       "  <thead>\n",
       "    <tr style=\"text-align: right;\">\n",
       "      <th></th>\n",
       "      <th>ciudad_id</th>\n",
       "      <th>nombre_ciudad</th>\n",
       "      <th>departamento_id</th>\n",
       "      <th>nombre_departamento</th>\n",
       "    </tr>\n",
       "  </thead>\n",
       "  <tbody>\n",
       "    <tr>\n",
       "      <th>0</th>\n",
       "      <td>6</td>\n",
       "      <td>BUGA</td>\n",
       "      <td>1</td>\n",
       "      <td>VALLE DEL CAUCA</td>\n",
       "    </tr>\n",
       "    <tr>\n",
       "      <th>1</th>\n",
       "      <td>5</td>\n",
       "      <td>BOGOTA</td>\n",
       "      <td>2</td>\n",
       "      <td>CUNDINAMARCA</td>\n",
       "    </tr>\n",
       "    <tr>\n",
       "      <th>2</th>\n",
       "      <td>4</td>\n",
       "      <td>PASTO</td>\n",
       "      <td>4</td>\n",
       "      <td>NARIÑO</td>\n",
       "    </tr>\n",
       "    <tr>\n",
       "      <th>3</th>\n",
       "      <td>3</td>\n",
       "      <td>POPAYAN</td>\n",
       "      <td>3</td>\n",
       "      <td>CAUCA</td>\n",
       "    </tr>\n",
       "    <tr>\n",
       "      <th>4</th>\n",
       "      <td>2</td>\n",
       "      <td>PALMIRA</td>\n",
       "      <td>1</td>\n",
       "      <td>VALLE DEL CAUCA</td>\n",
       "    </tr>\n",
       "  </tbody>\n",
       "</table>\n",
       "</div>"
      ],
      "text/plain": [
       "   ciudad_id nombre_ciudad  departamento_id nombre_departamento\n",
       "0          6          BUGA                1     VALLE DEL CAUCA\n",
       "1          5        BOGOTA                2        CUNDINAMARCA\n",
       "2          4         PASTO                4              NARIÑO\n",
       "3          3       POPAYAN                3               CAUCA\n",
       "4          2       PALMIRA                1     VALLE DEL CAUCA"
      ]
     },
     "execution_count": 16,
     "metadata": {},
     "output_type": "execute_result"
    }
   ],
   "source": [
    "dim_ciudad.head()"
   ]
  },
  {
   "cell_type": "code",
   "execution_count": 17,
   "id": "7483ebad-3d8b-497f-85f4-51fd07a04b88",
   "metadata": {},
   "outputs": [
    {
     "data": {
      "text/plain": [
       "19"
      ]
     },
     "execution_count": 17,
     "metadata": {},
     "output_type": "execute_result"
    }
   ],
   "source": [
    "dim_ciudad.to_sql('dim_ciudad', etl_conn, if_exists='replace',index_label='key_dim_ciudad')"
   ]
  },
  {
   "cell_type": "code",
   "execution_count": null,
   "id": "43a10f2f-5647-49ab-a18c-cff8a28ece68",
   "metadata": {},
   "outputs": [],
   "source": []
  }
 ],
 "metadata": {
  "kernelspec": {
   "display_name": "Python 3 (ipykernel)",
   "language": "python",
   "name": "python3"
  },
  "language_info": {
   "codemirror_mode": {
    "name": "ipython",
    "version": 3
   },
   "file_extension": ".py",
   "mimetype": "text/x-python",
   "name": "python",
   "nbconvert_exporter": "python",
   "pygments_lexer": "ipython3",
   "version": "3.10.6"
  }
 },
 "nbformat": 4,
 "nbformat_minor": 5
}
