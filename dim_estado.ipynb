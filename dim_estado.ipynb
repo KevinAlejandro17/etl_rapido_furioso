{
 "cells": [
  {
   "cell_type": "code",
   "execution_count": 5,
   "id": "c85d80c8-b047-41fb-b4ff-44a1f2277816",
   "metadata": {},
   "outputs": [],
   "source": [
    "from datetime import date\n",
    "\n",
    "import pandas as pd\n",
    "import yaml"
   ]
  },
  {
   "cell_type": "code",
   "execution_count": 6,
   "id": "4136c6b8-aa09-407d-80ad-c82e2774470c",
   "metadata": {},
   "outputs": [],
   "source": [
    "from sqlalchemy import create_engine\n",
    "\n",
    "with open('./config.yml', 'r') as f:\n",
    "        config = yaml.safe_load(f)\n",
    "        config_ryf = config['RAPIDO_Y_FURIOSO']\n",
    "        config_etl = config['ETL']\n",
    "\n",
    "url_ryf = (f\"{config_ryf['drivername']}://{config_ryf['user']}:{config_ryf['password']}@{config_ryf['host']}:\"\n",
    "        f\"{config_ryf['port']}/{config_ryf['dbname']}\")\n",
    "url_etl = (f\"{config_etl['drivername']}://{config_etl['user']}:{config_etl['password']}@{config_etl['host']}:\"\n",
    "        f\"{config_etl['port']}/{config_etl['dbname']}\")\n",
    "\n",
    "ryf = create_engine(url_ryf)\n",
    "etl_conn = create_engine(url_etl)"
   ]
  },
  {
   "cell_type": "code",
   "execution_count": 7,
   "id": "eaa78977-8c6e-4393-a0e5-b30f78c1a4b1",
   "metadata": {},
   "outputs": [
    {
     "name": "stdout",
     "output_type": "stream",
     "text": [
      "<class 'pandas.core.frame.DataFrame'>\n",
      "RangeIndex: 6 entries, 0 to 5\n",
      "Data columns (total 3 columns):\n",
      " #   Column       Non-Null Count  Dtype \n",
      "---  ------       --------------  ----- \n",
      " 0   id           6 non-null      int64 \n",
      " 1   nombre       6 non-null      object\n",
      " 2   descripcion  6 non-null      object\n",
      "dtypes: int64(1), object(2)\n",
      "memory usage: 272.0+ bytes\n"
     ]
    }
   ],
   "source": [
    "dim_estado = pd.read_sql_table('mensajeria_estado', url_ryf)\n",
    "dim_estado.info()"
   ]
  },
  {
   "cell_type": "code",
   "execution_count": 9,
   "id": "32029f73-bc49-459e-a6f0-ba99ddf8f3bf",
   "metadata": {},
   "outputs": [],
   "source": [
    "dim_estado.drop(columns=['id'], inplace=True)"
   ]
  },
  {
   "cell_type": "code",
   "execution_count": 10,
   "id": "568b681a-20b3-4055-82cb-5bfb553e9d54",
   "metadata": {},
   "outputs": [
    {
     "data": {
      "text/html": [
       "<div>\n",
       "<style scoped>\n",
       "    .dataframe tbody tr th:only-of-type {\n",
       "        vertical-align: middle;\n",
       "    }\n",
       "\n",
       "    .dataframe tbody tr th {\n",
       "        vertical-align: top;\n",
       "    }\n",
       "\n",
       "    .dataframe thead th {\n",
       "        text-align: right;\n",
       "    }\n",
       "</style>\n",
       "<table border=\"1\" class=\"dataframe\">\n",
       "  <thead>\n",
       "    <tr style=\"text-align: right;\">\n",
       "      <th></th>\n",
       "      <th>nombre</th>\n",
       "      <th>descripcion</th>\n",
       "    </tr>\n",
       "  </thead>\n",
       "  <tbody>\n",
       "    <tr>\n",
       "      <th>0</th>\n",
       "      <td>Recogido por mensajero</td>\n",
       "      <td>Recogido por mensajero</td>\n",
       "    </tr>\n",
       "    <tr>\n",
       "      <th>1</th>\n",
       "      <td>Entregado en destino</td>\n",
       "      <td>Entregado en destino</td>\n",
       "    </tr>\n",
       "    <tr>\n",
       "      <th>2</th>\n",
       "      <td>Con novedad</td>\n",
       "      <td>Tiene novedad</td>\n",
       "    </tr>\n",
       "    <tr>\n",
       "      <th>3</th>\n",
       "      <td>Terminado completo</td>\n",
       "      <td>Terminado completo</td>\n",
       "    </tr>\n",
       "    <tr>\n",
       "      <th>4</th>\n",
       "      <td>Iniciado</td>\n",
       "      <td>Creado por el usuario</td>\n",
       "    </tr>\n",
       "  </tbody>\n",
       "</table>\n",
       "</div>"
      ],
      "text/plain": [
       "                   nombre             descripcion\n",
       "0  Recogido por mensajero  Recogido por mensajero\n",
       "1    Entregado en destino    Entregado en destino\n",
       "2             Con novedad           Tiene novedad\n",
       "3      Terminado completo      Terminado completo\n",
       "4                Iniciado   Creado por el usuario"
      ]
     },
     "execution_count": 10,
     "metadata": {},
     "output_type": "execute_result"
    }
   ],
   "source": [
    "dim_estado.head()"
   ]
  },
  {
   "cell_type": "code",
   "execution_count": 11,
   "id": "67e0533b-4411-4007-a1a3-79c2e870d1b1",
   "metadata": {},
   "outputs": [
    {
     "data": {
      "text/plain": [
       "6"
      ]
     },
     "execution_count": 11,
     "metadata": {},
     "output_type": "execute_result"
    }
   ],
   "source": [
    "dim_estado.to_sql('dim_estado', etl_conn, if_exists='replace',index_label='key_dim_estado')"
   ]
  },
  {
   "cell_type": "code",
   "execution_count": null,
   "id": "ad88a716-fa04-4eee-a097-0a4ac7cb6ad8",
   "metadata": {},
   "outputs": [],
   "source": []
  }
 ],
 "metadata": {
  "kernelspec": {
   "display_name": "Python 3 (ipykernel)",
   "language": "python",
   "name": "python3"
  },
  "language_info": {
   "codemirror_mode": {
    "name": "ipython",
    "version": 3
   },
   "file_extension": ".py",
   "mimetype": "text/x-python",
   "name": "python",
   "nbconvert_exporter": "python",
   "pygments_lexer": "ipython3",
   "version": "3.10.6"
  }
 },
 "nbformat": 4,
 "nbformat_minor": 5
}
