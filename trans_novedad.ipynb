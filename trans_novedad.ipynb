{
 "cells": [
  {
   "cell_type": "code",
   "execution_count": 10,
   "id": "4b50e622-ff9e-4966-bc3f-906c6e14dbdd",
   "metadata": {},
   "outputs": [],
   "source": [
    "import datetime\n",
    "\n",
    "import numpy as np\n",
    "import pandas as pd\n",
    "import yaml"
   ]
  },
  {
   "cell_type": "code",
   "execution_count": 11,
   "id": "8590b539-ced0-4fe2-bc74-b6a162b4fa1e",
   "metadata": {},
   "outputs": [],
   "source": [
    "from sqlalchemy import create_engine\n",
    "\n",
    "with open('./config.yml', 'r') as f:\n",
    "        config = yaml.safe_load(f)\n",
    "        config_ryf = config['RAPIDO_Y_FURIOSO']\n",
    "        config_etl = config['ETL']\n",
    "\n",
    "url_ryf = (f\"{config_ryf['drivername']}://{config_ryf['user']}:{config_ryf['password']}@{config_ryf['host']}:\"\n",
    "        f\"{config_ryf['port']}/{config_ryf['dbname']}\")\n",
    "url_etl = (f\"{config_etl['drivername']}://{config_etl['user']}:{config_etl['password']}@{config_etl['host']}:\"\n",
    "        f\"{config_etl['port']}/{config_etl['dbname']}\")\n",
    "\n",
    "ryf = create_engine(url_ryf)\n",
    "etl_conn = create_engine(url_etl)"
   ]
  },
  {
   "cell_type": "code",
   "execution_count": 12,
   "id": "3b92163a-8b80-45f4-a997-8da5b2ea06a1",
   "metadata": {},
   "outputs": [],
   "source": [
    "trans_novedad = pd.read_sql_table('mensajeria_novedadesservicio', ryf)\n",
    "df_tipos_novedad = pd.read_sql_table('mensajeria_tiponovedad', ryf)"
   ]
  },
  {
   "cell_type": "code",
   "execution_count": 13,
   "id": "a87d5928-08c8-4b8a-8b51-b93242df4f39",
   "metadata": {},
   "outputs": [
    {
     "name": "stdout",
     "output_type": "stream",
     "text": [
      "<class 'pandas.core.frame.DataFrame'>\n",
      "RangeIndex: 5208 entries, 0 to 5207\n",
      "Data columns (total 7 columns):\n",
      " #   Column           Non-Null Count  Dtype              \n",
      "---  ------           --------------  -----              \n",
      " 0   id               5208 non-null   int64              \n",
      " 1   fecha_novedad    5208 non-null   datetime64[ns, UTC]\n",
      " 2   tipo_novedad_id  5208 non-null   int64              \n",
      " 3   descripcion      5208 non-null   object             \n",
      " 4   servicio_id      5208 non-null   int64              \n",
      " 5   es_prueba        5208 non-null   bool               \n",
      " 6   mensajero_id     5208 non-null   int64              \n",
      "dtypes: bool(1), datetime64[ns, UTC](1), int64(4), object(1)\n",
      "memory usage: 249.3+ KB\n"
     ]
    }
   ],
   "source": [
    "trans_novedad.info()"
   ]
  },
  {
   "cell_type": "code",
   "execution_count": 14,
   "id": "3641864b-6ade-41c2-b431-04efb1512037",
   "metadata": {},
   "outputs": [],
   "source": [
    "trans_novedad = trans_novedad.merge(\n",
    "    df_tipos_novedad, \n",
    "    left_on='tipo_novedad_id',\n",
    "    right_on='id',\n",
    "    how='left'\n",
    ")"
   ]
  },
  {
   "cell_type": "code",
   "execution_count": 15,
   "id": "bd6430e6-e075-4425-8a3b-48a538918cf7",
   "metadata": {},
   "outputs": [],
   "source": [
    "trans_novedad = trans_novedad.filter(['fecha_novedad', 'tipo_novedad_id', 'descripcion'])"
   ]
  },
  {
   "cell_type": "code",
   "execution_count": 18,
   "id": "b43d4d1c-9f14-4bd1-aeb4-66015350ad61",
   "metadata": {},
   "outputs": [
    {
     "data": {
      "text/html": [
       "<div>\n",
       "<style scoped>\n",
       "    .dataframe tbody tr th:only-of-type {\n",
       "        vertical-align: middle;\n",
       "    }\n",
       "\n",
       "    .dataframe tbody tr th {\n",
       "        vertical-align: top;\n",
       "    }\n",
       "\n",
       "    .dataframe thead th {\n",
       "        text-align: right;\n",
       "    }\n",
       "</style>\n",
       "<table border=\"1\" class=\"dataframe\">\n",
       "  <thead>\n",
       "    <tr style=\"text-align: right;\">\n",
       "      <th></th>\n",
       "      <th>fecha_novedad</th>\n",
       "      <th>tipo_novedad_id</th>\n",
       "      <th>descripcion</th>\n",
       "      <th>saved</th>\n",
       "    </tr>\n",
       "  </thead>\n",
       "  <tbody>\n",
       "    <tr>\n",
       "      <th>0</th>\n",
       "      <td>2023-11-30 05:00:00+00:00</td>\n",
       "      <td>1</td>\n",
       "      <td>A</td>\n",
       "      <td>2024-11-10</td>\n",
       "    </tr>\n",
       "    <tr>\n",
       "      <th>1</th>\n",
       "      <td>2023-11-30 05:00:00+00:00</td>\n",
       "      <td>1</td>\n",
       "      <td>Halo</td>\n",
       "      <td>2024-11-10</td>\n",
       "    </tr>\n",
       "    <tr>\n",
       "      <th>2</th>\n",
       "      <td>2023-11-30 05:00:00+00:00</td>\n",
       "      <td>1</td>\n",
       "      <td>A</td>\n",
       "      <td>2024-11-10</td>\n",
       "    </tr>\n",
       "    <tr>\n",
       "      <th>3</th>\n",
       "      <td>2023-11-30 05:00:00+00:00</td>\n",
       "      <td>1</td>\n",
       "      <td>B</td>\n",
       "      <td>2024-11-10</td>\n",
       "    </tr>\n",
       "    <tr>\n",
       "      <th>4</th>\n",
       "      <td>2023-11-30 05:00:00+00:00</td>\n",
       "      <td>1</td>\n",
       "      <td>A</td>\n",
       "      <td>2024-11-10</td>\n",
       "    </tr>\n",
       "  </tbody>\n",
       "</table>\n",
       "</div>"
      ],
      "text/plain": [
       "              fecha_novedad  tipo_novedad_id descripcion       saved\n",
       "0 2023-11-30 05:00:00+00:00                1           A  2024-11-10\n",
       "1 2023-11-30 05:00:00+00:00                1        Halo  2024-11-10\n",
       "2 2023-11-30 05:00:00+00:00                1           A  2024-11-10\n",
       "3 2023-11-30 05:00:00+00:00                1           B  2024-11-10\n",
       "4 2023-11-30 05:00:00+00:00                1           A  2024-11-10"
      ]
     },
     "execution_count": 18,
     "metadata": {},
     "output_type": "execute_result"
    }
   ],
   "source": [
    "trans_novedad['saved'] = datetime.date.today()\n",
    "trans_novedad.head()"
   ]
  },
  {
   "cell_type": "code",
   "execution_count": 19,
   "id": "fb43b3d1-596a-485b-b2d1-afe4ac3d6a77",
   "metadata": {},
   "outputs": [
    {
     "data": {
      "text/plain": [
       "208"
      ]
     },
     "execution_count": 19,
     "metadata": {},
     "output_type": "execute_result"
    }
   ],
   "source": [
    "trans_novedad.to_sql('trans_novedad', etl_conn, if_exists='replace', index_label='key_trans_novedad')"
   ]
  }
 ],
 "metadata": {
  "kernelspec": {
   "display_name": "Python 3 (ipykernel)",
   "language": "python",
   "name": "python3"
  },
  "language_info": {
   "codemirror_mode": {
    "name": "ipython",
    "version": 3
   },
   "file_extension": ".py",
   "mimetype": "text/x-python",
   "name": "python",
   "nbconvert_exporter": "python",
   "pygments_lexer": "ipython3",
   "version": "3.10.6"
  }
 },
 "nbformat": 4,
 "nbformat_minor": 5
}
