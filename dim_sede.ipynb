{
 "cells": [
  {
   "cell_type": "code",
   "execution_count": 1,
   "id": "efa423cf-1e4c-4db4-b5c8-838fcb4a106f",
   "metadata": {},
   "outputs": [],
   "source": [
    "from datetime import date\n",
    "\n",
    "import pandas as pd\n",
    "import yaml"
   ]
  },
  {
   "cell_type": "code",
   "execution_count": 2,
   "id": "5e7070ab-915d-4f31-aaf4-7286d7e3e140",
   "metadata": {},
   "outputs": [],
   "source": [
    "from sqlalchemy import create_engine\n",
    "\n",
    "with open('./config.yml', 'r') as f:\n",
    "        config = yaml.safe_load(f)\n",
    "        config_ryf = config['RAPIDO_Y_FURIOSO']\n",
    "        config_etl = config['ETL']\n",
    "\n",
    "url_ryf = (f\"{config_ryf['drivername']}://{config_ryf['user']}:{config_ryf['password']}@{config_ryf['host']}:\"\n",
    "        f\"{config_ryf['port']}/{config_ryf['dbname']}\")\n",
    "url_etl = (f\"{config_etl['drivername']}://{config_etl['user']}:{config_etl['password']}@{config_etl['host']}:\"\n",
    "        f\"{config_etl['port']}/{config_etl['dbname']}\")\n",
    "\n",
    "ryf = create_engine(url_ryf)\n",
    "etl_conn = create_engine(url_etl)"
   ]
  },
  {
   "cell_type": "code",
   "execution_count": 3,
   "id": "9f8ff1c7-0b30-4784-8cb3-59e12b62a78d",
   "metadata": {},
   "outputs": [
    {
     "name": "stdout",
     "output_type": "stream",
     "text": [
      "<class 'pandas.core.frame.DataFrame'>\n",
      "RangeIndex: 52 entries, 0 to 51\n",
      "Data columns (total 7 columns):\n",
      " #   Column           Non-Null Count  Dtype \n",
      "---  ------           --------------  ----- \n",
      " 0   sede_id          52 non-null     int64 \n",
      " 1   nombre           52 non-null     object\n",
      " 2   direccion        52 non-null     object\n",
      " 3   telefono         52 non-null     object\n",
      " 4   nombre_contacto  52 non-null     object\n",
      " 5   ciudad_id        52 non-null     int64 \n",
      " 6   cliente_id       52 non-null     int64 \n",
      "dtypes: int64(3), object(4)\n",
      "memory usage: 3.0+ KB\n"
     ]
    }
   ],
   "source": [
    "dim_sede = pd.read_sql_table('sede', url_ryf)\n",
    "dim_sede.info()"
   ]
  },
  {
   "cell_type": "code",
   "execution_count": 5,
   "id": "e8eef323-fe1f-4f6d-a6fb-d80befb5f6c5",
   "metadata": {},
   "outputs": [
    {
     "data": {
      "text/html": [
       "<div>\n",
       "<style scoped>\n",
       "    .dataframe tbody tr th:only-of-type {\n",
       "        vertical-align: middle;\n",
       "    }\n",
       "\n",
       "    .dataframe tbody tr th {\n",
       "        vertical-align: top;\n",
       "    }\n",
       "\n",
       "    .dataframe thead th {\n",
       "        text-align: right;\n",
       "    }\n",
       "</style>\n",
       "<table border=\"1\" class=\"dataframe\">\n",
       "  <thead>\n",
       "    <tr style=\"text-align: right;\">\n",
       "      <th></th>\n",
       "      <th>nombre</th>\n",
       "      <th>direccion</th>\n",
       "      <th>telefono</th>\n",
       "      <th>nombre_contacto</th>\n",
       "      <th>ciudad_id</th>\n",
       "    </tr>\n",
       "  </thead>\n",
       "  <tbody>\n",
       "    <tr>\n",
       "      <th>0</th>\n",
       "      <td>FARALLONES /123</td>\n",
       "      <td>Los angeles distrito Latino</td>\n",
       "      <td>310-70000</td>\n",
       "      <td>JUAN PEREZ</td>\n",
       "      <td>1</td>\n",
       "    </tr>\n",
       "    <tr>\n",
       "      <th>1</th>\n",
       "      <td>REMEDIOZ/ 123</td>\n",
       "      <td>Los angeles distrito Latino</td>\n",
       "      <td>310-70000</td>\n",
       "      <td>JUAN PEREZ</td>\n",
       "      <td>1</td>\n",
       "    </tr>\n",
       "    <tr>\n",
       "      <th>2</th>\n",
       "      <td>DIME / LOS ROJOS</td>\n",
       "      <td>Los angeles distrito Latino</td>\n",
       "      <td>310-70000</td>\n",
       "      <td>JUAN PEREZ</td>\n",
       "      <td>1</td>\n",
       "    </tr>\n",
       "    <tr>\n",
       "      <th>3</th>\n",
       "      <td>DESPACHOS / LOS ROJOS</td>\n",
       "      <td>Los angeles distrito Latino</td>\n",
       "      <td>310-70000</td>\n",
       "      <td>JUAN PEREZ</td>\n",
       "      <td>1</td>\n",
       "    </tr>\n",
       "    <tr>\n",
       "      <th>4</th>\n",
       "      <td>POPAYAN BODEGA 28 / A</td>\n",
       "      <td>Los angeles distrito Latino</td>\n",
       "      <td>310-70000</td>\n",
       "      <td>JUAN PEREZ</td>\n",
       "      <td>3</td>\n",
       "    </tr>\n",
       "  </tbody>\n",
       "</table>\n",
       "</div>"
      ],
      "text/plain": [
       "                  nombre                    direccion   telefono  \\\n",
       "0        FARALLONES /123  Los angeles distrito Latino  310-70000   \n",
       "1          REMEDIOZ/ 123  Los angeles distrito Latino  310-70000   \n",
       "2       DIME / LOS ROJOS  Los angeles distrito Latino  310-70000   \n",
       "3  DESPACHOS / LOS ROJOS  Los angeles distrito Latino  310-70000   \n",
       "4  POPAYAN BODEGA 28 / A  Los angeles distrito Latino  310-70000   \n",
       "\n",
       "  nombre_contacto  ciudad_id  \n",
       "0      JUAN PEREZ          1  \n",
       "1      JUAN PEREZ          1  \n",
       "2      JUAN PEREZ          1  \n",
       "3      JUAN PEREZ          1  \n",
       "4      JUAN PEREZ          3  "
      ]
     },
     "execution_count": 5,
     "metadata": {},
     "output_type": "execute_result"
    }
   ],
   "source": [
    "dim_sede = dim_sede.drop(columns=['sede_id', 'cliente_id'])\n",
    "dim_sede.head()"
   ]
  },
  {
   "cell_type": "code",
   "execution_count": 23,
   "id": "2cdf80ef-45a0-46ad-9caa-f15f8a897dc7",
   "metadata": {},
   "outputs": [
    {
     "data": {
      "text/plain": [
       "52"
      ]
     },
     "execution_count": 23,
     "metadata": {},
     "output_type": "execute_result"
    }
   ],
   "source": [
    "dim_sede.to_sql('dim_sede', etl_conn, if_exists='replace',index_label='key_dim_sede')"
   ]
  },
  {
   "cell_type": "code",
   "execution_count": 6,
   "id": "75ea1c10",
   "metadata": {},
   "outputs": [],
   "source": [
    "servicio = pd.read_sql_table('mensajeria_servicio', url_ryf)\n"
   ]
  },
  {
   "cell_type": "code",
   "execution_count": 7,
   "id": "ca7e5395",
   "metadata": {},
   "outputs": [
    {
     "name": "stdout",
     "output_type": "stream",
     "text": [
      "<class 'pandas.core.frame.DataFrame'>\n",
      "RangeIndex: 28430 entries, 0 to 28429\n",
      "Data columns (total 33 columns):\n",
      " #   Column                          Non-Null Count  Dtype         \n",
      "---  ------                          --------------  -----         \n",
      " 0   id                              28430 non-null  int64         \n",
      " 1   descripcion                     28430 non-null  object        \n",
      " 2   nombre_solicitante              28430 non-null  object        \n",
      " 3   fecha_solicitud                 28430 non-null  datetime64[ns]\n",
      " 4   hora_solicitud                  28430 non-null  object        \n",
      " 5   fecha_deseada                   28424 non-null  datetime64[ns]\n",
      " 6   hora_deseada                    28430 non-null  object        \n",
      " 7   nombre_recibe                   28430 non-null  object        \n",
      " 8   telefono_recibe                 28430 non-null  object        \n",
      " 9   descripcion_pago                28170 non-null  object        \n",
      " 10  ida_y_regreso                   28430 non-null  bool          \n",
      " 11  activo                          28430 non-null  bool          \n",
      " 12  novedades                       28094 non-null  object        \n",
      " 13  cliente_id                      28430 non-null  int64         \n",
      " 14  destino_id                      28430 non-null  int64         \n",
      " 15  mensajero_id                    27703 non-null  float64       \n",
      " 16  origen_id                       28430 non-null  int64         \n",
      " 17  tipo_pago_id                    28430 non-null  int64         \n",
      " 18  tipo_servicio_id                28430 non-null  int64         \n",
      " 19  tipo_vehiculo_id                28430 non-null  int64         \n",
      " 20  usuario_id                      28430 non-null  int64         \n",
      " 21  prioridad                       28430 non-null  object        \n",
      " 22  ciudad_destino_id               28430 non-null  int64         \n",
      " 23  ciudad_origen_id                28430 non-null  int64         \n",
      " 24  hora_visto_por_mensajero        2 non-null      object        \n",
      " 25  visto_por_mensajero             28094 non-null  object        \n",
      " 26  descripcion_multiples_origenes  27670 non-null  object        \n",
      " 27  mensajero2_id                   2233 non-null   float64       \n",
      " 28  mensajero3_id                   285 non-null    float64       \n",
      " 29  multiples_origenes              28430 non-null  bool          \n",
      " 30  asignar_mensajero               28430 non-null  bool          \n",
      " 31  es_prueba                       28430 non-null  bool          \n",
      " 32  descripcion_cancelado           28084 non-null  object        \n",
      "dtypes: bool(5), datetime64[ns](2), float64(3), int64(10), object(13)\n",
      "memory usage: 6.2+ MB\n"
     ]
    }
   ],
   "source": [
    "servicio.info()"
   ]
  }
 ],
 "metadata": {
  "kernelspec": {
   "display_name": "venv",
   "language": "python",
   "name": "python3"
  },
  "language_info": {
   "codemirror_mode": {
    "name": "ipython",
    "version": 3
   },
   "file_extension": ".py",
   "mimetype": "text/x-python",
   "name": "python",
   "nbconvert_exporter": "python",
   "pygments_lexer": "ipython3",
   "version": "3.10.6"
  }
 },
 "nbformat": 4,
 "nbformat_minor": 5
}
